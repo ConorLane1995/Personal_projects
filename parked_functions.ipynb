{
 "cells": [
  {
   "cell_type": "code",
   "execution_count": null,
   "metadata": {},
   "outputs": [],
   "source": [
    "# Parked Functions"
   ]
  },
  {
   "cell_type": "code",
   "execution_count": null,
   "metadata": {},
   "outputs": [],
   "source": [
    "# Remove outliers using interquartile range - any values outside the IQR * 1.5 upper and lower bounds are removed. \n",
    "\n",
    "def clean_by_IQR(df, feature):\n",
    "    iqr = df[feature].quantile(0.75) - df[feature].quantile(0.25)\n",
    "    l1 = df[feature].quantile(0.25) - 1.5 * iqr\n",
    "    l2 = df[feature].quantile(0.75) + 1.5 * iqr\n",
    "    \n",
    "    # Return the cleaned feature (only keep values within bounds)\n",
    "    cleaned_feature = df[(df[feature] >= l1) & (df[feature] <= l2)]\n",
    "    \n",
    "    return cleaned_feature[feature]\n",
    "\n",
    "features = df.columns.tolist()\n",
    "\n",
    "for feature in features:\n",
    "    df[feature] = clean_by_IQR(df, feature)"
   ]
  }
 ],
 "metadata": {
  "language_info": {
   "name": "python"
  }
 },
 "nbformat": 4,
 "nbformat_minor": 2
}
